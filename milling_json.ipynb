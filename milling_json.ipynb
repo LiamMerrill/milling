{
 "cells": [
  {
   "cell_type": "code",
   "execution_count": 1,
   "id": "8d980345-ea9c-4b9c-a643-db6404c3e1c9",
   "metadata": {},
   "outputs": [],
   "source": [
    "import json\n",
    "import random\n",
    "import numpy as np\n",
    "import json"
   ]
  },
  {
   "cell_type": "code",
   "execution_count": 5,
   "id": "4ade71f0-8cf3-41df-b39e-1de4b430f5c9",
   "metadata": {},
   "outputs": [
    {
     "name": "stdout",
     "output_type": "stream",
     "text": [
      "[\n",
      "    {\n",
      "        \"data\": {\n",
      "            \"id\": \"Warehouse\",\n",
      "            \"label\": \"Warehouse (1000 units)\",\n",
      "            \"type\": \"warehouse\",\n",
      "            \"inventory\": 1000,\n",
      "            \"revenue\": 0\n",
      "        },\n",
      "        \"position\": {\n",
      "            \"x\": 500,\n",
      "            \"y\": 300\n",
      "        }\n",
      "    },\n",
      "    {\n",
      "        \"data\": {\n",
      "            \"id\": \"Supply_Center_1\",\n",
      "            \"label\": \"Supply Center 1 (250 units)\",\n",
      "            \"type\": \"supply_center\",\n",
      "            \"inventory\": 250,\n",
      "            \"revenue\": 0\n",
      "        },\n",
      "        \"position\": {\n",
      "            \"x\": 200,\n",
      "            \"y\": 300\n",
      "        }\n",
      "    },\n",
      "    {\n",
      "        \"data\": {\n",
      "            \"id\": \"Supply_Center_2\",\n",
      "            \"label\": \"Supply Center 2 (250 units)\",\n",
      "            \"type\": \"supply_center\",\n",
      "            \"inventory\": 250,\n",
      "            \"revenue\": 0\n",
      "        },\n",
      "        \"position\": {\n",
      "            \"x\": 800,\n",
      "            \"y\": 300\n",
      "        }\n",
      "    }\n",
      "]\n"
     ]
    }
   ],
   "source": [
    "def generate_warehouse_and_supply_centers():\n",
    "    # Define the warehouse\n",
    "    warehouse = {\n",
    "        'data': {\n",
    "            'id': 'Warehouse',\n",
    "            'label': 'Warehouse (1000 units)',\n",
    "            'type': 'warehouse',\n",
    "            'inventory': 1000,\n",
    "            'revenue': 0\n",
    "        },\n",
    "        'position': {'x': 500, 'y': 300}\n",
    "    }\n",
    "\n",
    "    # Define two supply centers\n",
    "    supply_centers = []\n",
    "    for i in range(2):\n",
    "        supply_center = {\n",
    "            'data': {\n",
    "                'id': f'Supply_Center_{i+1}',\n",
    "                'label': f'Supply Center {i+1} (250 units)',\n",
    "                'type': 'supply_center',\n",
    "                'inventory': 250,\n",
    "                'revenue': 0\n",
    "            },\n",
    "            'position': {'x': 200 + 600 * i, 'y': 300}\n",
    "        }\n",
    "        supply_centers.append(supply_center)\n",
    "    \n",
    "    return [warehouse] + supply_centers\n",
    "\n",
    "# Test and inspect\n",
    "nodes = generate_warehouse_and_supply_centers()\n",
    "print(json.dumps(nodes, indent=4))  # Inspect nodes\n"
   ]
  },
  {
   "cell_type": "code",
   "execution_count": 2,
   "id": "d2fc8cdb-e9ee-4453-9899-82cf4fd826e1",
   "metadata": {},
   "outputs": [
    {
     "name": "stdout",
     "output_type": "stream",
     "text": [
      "JSON dataset generated successfully!\n"
     ]
    }
   ],
   "source": [
    "def generate_json_dataset():\n",
    "    # Define nodes: Warehouse and Supply Centers\n",
    "    nodes = [\n",
    "        {\n",
    "            'data': {\n",
    "                'id': 'Warehouse',\n",
    "                'label': 'Warehouse (1000 units)',\n",
    "                'type': 'warehouse',\n",
    "                'inventory': 1000,\n",
    "                'revenue': 0\n",
    "            },\n",
    "            'position': {'x': 500, 'y': 300}\n",
    "        }\n",
    "    ]\n",
    "    \n",
    "    # Define supply centers\n",
    "    supply_centers_positions = [{'x': 200, 'y': 300}, {'x': 800, 'y': 300}]\n",
    "    for i in range(2):  # Two supply centers\n",
    "        supply_center = {\n",
    "            'data': {\n",
    "                'id': f'Supply_Center_{i+1}',\n",
    "                'label': f'Supply Center {i+1} (250 units)',\n",
    "                'type': 'supply_center',\n",
    "                'inventory': 250,\n",
    "                'revenue': 0\n",
    "            },\n",
    "            'position': supply_centers_positions[i]  # Position for the supply center\n",
    "        }\n",
    "        nodes.append(supply_center)\n",
    "    \n",
    "    # Define stores: 4 stores per supply center\n",
    "    store_id = 1\n",
    "    for i in range(2):  # For each supply center\n",
    "        for j in range(4):  # Four stores per supply center\n",
    "            store = {\n",
    "                'data': {\n",
    "                    'id': f'Store_{store_id}',\n",
    "                    'label': f'Store {store_id} (100 units)',\n",
    "                    'type': 'store',\n",
    "                    'inventory': 100,\n",
    "                    'revenue': 0\n",
    "                },\n",
    "                'position': {\n",
    "                    'x': random.randint(100, 300) if i == 0 else random.randint(700, 900),\n",
    "                    'y': random.randint(100, 500)\n",
    "                }\n",
    "            }\n",
    "            nodes.append(store)\n",
    "            store_id += 1\n",
    "    \n",
    "    # Define edges (connections between warehouse, supply centers, and stores)\n",
    "    edges = []\n",
    "    \n",
    "    # Connect warehouse to supply centers\n",
    "    for i in range(2):\n",
    "        edges.append({\n",
    "            'data': {\n",
    "                'source': 'Warehouse',\n",
    "                'target': f'Supply_Center_{i+1}',\n",
    "                'label': 'Supply Path',\n",
    "                'distance': np.sqrt((500 - supply_centers_positions[i]['x']) ** 2 + (300 - supply_centers_positions[i]['y']) ** 2)\n",
    "            }\n",
    "        })\n",
    "    \n",
    "    # Connect each supply center to its four stores\n",
    "    store_counter = 1\n",
    "    for i in range(2):  # Two supply centers\n",
    "        for j in range(4):  # Four stores per supply center\n",
    "            edges.append({\n",
    "                'data': {\n",
    "                    'source': f'Supply_Center_{i+1}',\n",
    "                    'target': f'Store_{store_counter}',\n",
    "                    'label': 'Distribution Path',\n",
    "                    'distance': random.randint(50, 150)  # Placeholder distance\n",
    "                }\n",
    "            })\n",
    "            store_counter += 1\n",
    "    \n",
    "    # Define people (randomized positions and initial states)\n",
    "    people = [\n",
    "        {\n",
    "            'id': f'Person_{i}',\n",
    "            'dollars': np.random.randint(30, 101),\n",
    "            'units': 0,\n",
    "            'position': {'x': random.randint(50, 950), 'y': random.randint(50, 950)},\n",
    "            'nearest_store': None,\n",
    "            'step_fraction': 0\n",
    "        }\n",
    "        for i in range(1, 101)  # Generate 100 people\n",
    "    ]\n",
    "    \n",
    "    # Global settings for the simulation\n",
    "    settings = {\n",
    "        'round': 1,\n",
    "        'time': 0,\n",
    "        'max_time': 100\n",
    "    }\n",
    "    \n",
    "    # Empty transactions (to be filled during the simulation)\n",
    "    transactions = []\n",
    "    \n",
    "    # Combine everything into one JSON dataset\n",
    "    json_data = {\n",
    "        'nodes': nodes,\n",
    "        'edges': edges,\n",
    "        'people': people,\n",
    "        'transactions': transactions,\n",
    "        'settings': settings\n",
    "    }\n",
    "    \n",
    "    # Save the dataset as a JSON file\n",
    "    with open('simulation_data.json', 'w') as f:\n",
    "        json.dump(json_data, f, indent=4)\n",
    "    \n",
    "    print(\"JSON dataset generated successfully!\")\n",
    "\n",
    "# Run the function to generate the dataset\n",
    "generate_json_dataset()\n"
   ]
  },
  {
   "cell_type": "code",
   "execution_count": 3,
   "id": "5a4199a9-4e02-4b21-9a33-e112bd02503d",
   "metadata": {},
   "outputs": [
    {
     "name": "stdout",
     "output_type": "stream",
     "text": [
      "JSON dataset generated successfully!\n"
     ]
    }
   ],
   "source": [
    "json_data = generate_json_dataset()\n"
   ]
  },
  {
   "cell_type": "code",
   "execution_count": 4,
   "id": "7564cb3f-3ad8-49e8-8c45-62daf221244e",
   "metadata": {},
   "outputs": [
    {
     "name": "stdout",
     "output_type": "stream",
     "text": [
      "null\n"
     ]
    }
   ],
   "source": [
    "# Pretty-print JSON data\n",
    "print(json.dumps(json_data, indent=4))\n"
   ]
  },
  {
   "cell_type": "code",
   "execution_count": 2,
   "id": "4e8b2c62-e39a-4527-9d97-b49eb15bcbe0",
   "metadata": {},
   "outputs": [],
   "source": [
    "import json\n",
    "import numpy as np\n",
    "import random"
   ]
  },
  {
   "cell_type": "code",
   "execution_count": 3,
   "id": "231b2c09-154a-42cc-b7f0-624063454b4d",
   "metadata": {},
   "outputs": [],
   "source": [
    "\n",
    "# Nodes\n",
    "nodes = [\n",
    "    {\n",
    "        'data': {\n",
    "            'id': 'Warehouse',\n",
    "            'label': 'Warehouse (1000 units)',\n",
    "            'type': 'warehouse',\n",
    "            'inventory': 1000,\n",
    "            'revenue': 0\n",
    "        },\n",
    "        'position': {'x': 500, 'y': 300}\n",
    "    },\n",
    "    {\n",
    "        'data': {\n",
    "            'id': 'Supply_Center_1',\n",
    "            'label': 'Supply Center 1 (250 units)',\n",
    "            'type': 'supply_center',\n",
    "            'inventory': 250,\n",
    "            'revenue': 0\n",
    "        },\n",
    "        'position': {'x': 200, 'y': 300}\n",
    "    }\n",
    "    # Add more nodes as needed...\n",
    "]"
   ]
  },
  {
   "cell_type": "code",
   "execution_count": 4,
   "id": "22e39b8d-7a4b-4a93-8fb4-3867b0dd1d2e",
   "metadata": {},
   "outputs": [],
   "source": [
    "\n",
    "# People\n",
    "people = [\n",
    "    {\n",
    "        'id': f'Person_{i}',\n",
    "        'dollars': np.random.randint(30, 101),\n",
    "        'units': 0,\n",
    "        'position': {'x': random.randint(50, 950), 'y': random.randint(50, 950)},\n",
    "        'nearest_store': None,\n",
    "        'step_fraction': 0\n",
    "    }\n",
    "    for i in range(1, 101)\n",
    "]"
   ]
  },
  {
   "cell_type": "code",
   "execution_count": 6,
   "id": "bcdf145f-4344-4522-8b6a-ba8b2ade857d",
   "metadata": {},
   "outputs": [],
   "source": [
    "# Edges\n",
    "\n",
    "edges = [\n",
    "    {\n",
    "        'data': {\n",
    "            'source': 'Warehouse',\n",
    "            'target': 'Supply_Center_1',\n",
    "            'label': 'Supply Path',\n",
    "            'distance': np.sqrt((500 - 200) ** 2 + (300 - 300) ** 2)\n",
    "        }\n",
    "    }\n",
    "    # Add more edges as needed...\n",
    "]"
   ]
  },
  {
   "cell_type": "code",
   "execution_count": 7,
   "id": "6e033af0-09c1-4e4e-b43d-31a0a53c0a07",
   "metadata": {},
   "outputs": [],
   "source": [
    "# Global Settings\n",
    "settings = {\n",
    "    'round': 1,\n",
    "    'time': 0,\n",
    "    'max_time': 100\n",
    "}"
   ]
  },
  {
   "cell_type": "code",
   "execution_count": 8,
   "id": "e1f687d1-4a06-4988-bdfe-3f09d26bdad4",
   "metadata": {},
   "outputs": [],
   "source": [
    "# Empty Transactions\n",
    "transactions = []  # Leave this empty"
   ]
  },
  {
   "cell_type": "code",
   "execution_count": null,
   "id": "003f743a-87d1-41fe-ae67-c529eabe0676",
   "metadata": {},
   "outputs": [],
   "source": [
    "# Combine everything into one JSON dataset\n",
    "milling_json_data = {\n",
    "    'nodes': nodes,\n",
    "    'edges': edges,\n",
    "    'people': people,\n",
    "    'transactions': transactions,\n",
    "    'settings': settings\n",
    "}"
   ]
  },
  {
   "cell_type": "code",
   "execution_count": null,
   "id": "6f6ea3f1-7c18-403b-8da1-a1d3c93ed52b",
   "metadata": {},
   "outputs": [],
   "source": [
    "\n",
    "\n",
    "# Save the dataset\n",
    "with open('simulation_data.json', 'w') as f:\n",
    "    json.dump(json_data, f, indent=4)"
   ]
  }
 ],
 "metadata": {
  "kernelspec": {
   "display_name": "Python 3 (ipykernel)",
   "language": "python",
   "name": "python3"
  },
  "language_info": {
   "codemirror_mode": {
    "name": "ipython",
    "version": 3
   },
   "file_extension": ".py",
   "mimetype": "text/x-python",
   "name": "python",
   "nbconvert_exporter": "python",
   "pygments_lexer": "ipython3",
   "version": "3.8.8"
  }
 },
 "nbformat": 4,
 "nbformat_minor": 5
}
